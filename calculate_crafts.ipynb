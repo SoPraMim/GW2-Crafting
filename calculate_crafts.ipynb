{
 "cells": [
  {
   "cell_type": "code",
   "execution_count": 12,
   "metadata": {},
   "outputs": [],
   "source": [
    "import pandas as pd\n",
    "from item_list import *\n"
   ]
  },
  {
   "cell_type": "code",
   "execution_count": 13,
   "metadata": {},
   "outputs": [],
   "source": [
    "itemsToCraft=[\"Spiritwood Plank\",\n",
    "              \"Deldrimor Steel Ingot\",\n",
    "              \"Elonian Leather Square\",\n",
    "              \"Bolt of Damask\",\n",
    "              \"Jeweled Damask Patch\",\n",
    "            ]"
   ]
  },
  {
   "cell_type": "code",
   "execution_count": 14,
   "metadata": {},
   "outputs": [
    {
     "name": "stderr",
     "output_type": "stream",
     "text": [
      "C:\\Users\\andre\\AppData\\Local\\Temp\\ipykernel_2908\\4101303412.py:10: DtypeWarning: Columns (12) have mixed types. Specify dtype option on import or set low_memory=False.\n",
      "  items=ItemList(pd.read_csv(f\"https://api.datawars2.ie/gw2/v1/items/csv?fields={params['fields']}&filter={params['filter']}\"))\n"
     ]
    }
   ],
   "source": [
    "# Get available keys\n",
    "# keys = pd.read_json(\"https://api.datawars2.ie/gw2/v1/items/keys\")\n",
    "#print(keys[0:])\n",
    "\n",
    "# Get full item list\n",
    "params={\n",
    "    \"fields\": \"id,name,buy_quantity,buy_price,sell_quantity,sell_price,type,rarity,7d_sell_sold,7d_sell_price_avg,1d_sell_sold,1d_sell_price_avg,lastUpdated\",\n",
    "    \"filter\": \"\"\n",
    "}\n",
    "items=ItemList(pd.read_csv(f\"https://api.datawars2.ie/gw2/v1/items/csv?fields={params['fields']}&filter={params['filter']}\"))\n",
    "# print(items.ItemList[0:1])\n",
    "\n",
    "# Get full recipe list\n",
    "recipes=RecipeList(pd.read_csv(\"https://api.datawars2.ie/gw2/v2/recipes/csv\"))\n",
    "# print(recipes.RecipeList[0:3])"
   ]
  },
  {
   "cell_type": "code",
   "execution_count": 15,
   "metadata": {},
   "outputs": [
    {
     "name": "stdout",
     "output_type": "stream",
     "text": [
      "Deldrimor Steel Ingot\n",
      "     Crafting cost:  2g 30s 41c\n",
      "     Selling price:  3g 61s 99c\n",
      "            Profit:  0g 77s 28c\n",
      "Jeweled Damask Patch\n",
      "     Crafting cost:  2g 86s 40c\n",
      "     Selling price:  7g 95s 55c\n",
      "            Profit:  3g 89s 81c\n"
     ]
    }
   ],
   "source": [
    "ListIDs=items.getID(itemsToCraft)\n",
    "for idx,ID in enumerate(ListIDs):\n",
    "    materials=getMaterials(ID,recipes,items)\n",
    "    craftPrice=0\n",
    "    for i in range(len(materials)):\n",
    "        craftPrice=craftPrice+items.getValueFromID(materials[i][0],'buy_price')*materials[i][1]\n",
    "    craftPrice_converted=ConvertToGold(craftPrice)\n",
    "\n",
    "    \n",
    "    sellPrice=items.getValueFromID(ID,'sell_price')\n",
    "    sellPrice_converted=ConvertToGold(sellPrice)\n",
    "\n",
    "    \n",
    "    profit=sellPrice*.85-craftPrice\n",
    "    profit_converted=ConvertToGold(profit)\n",
    "\n",
    "\n",
    "    if profit < 0:\n",
    "        continue\n",
    "\n",
    "    print(\"{}\".format(itemsToCraft[idx]))\n",
    "    print(\"     Crafting cost: {:>2}g {:>2}s {:>2}c\".format(craftPrice_converted[0],craftPrice_converted[1],craftPrice_converted[2]))\n",
    "    print(\"     Selling price: {:>2}g {:>2}s {:>2}c\".format(sellPrice_converted[0],sellPrice_converted[1],sellPrice_converted[2]))\n",
    "    print(\"            Profit: {:>2}g {:>2}s {:>2}c\".format(profit_converted[0],profit_converted[1],profit_converted[2]))"
   ]
  },
  {
   "cell_type": "code",
   "execution_count": null,
   "metadata": {},
   "outputs": [],
   "source": []
  }
 ],
 "metadata": {
  "kernelspec": {
   "display_name": "Python 3.9.12 ('base')",
   "language": "python",
   "name": "python3"
  },
  "language_info": {
   "codemirror_mode": {
    "name": "ipython",
    "version": 3
   },
   "file_extension": ".py",
   "mimetype": "text/x-python",
   "name": "python",
   "nbconvert_exporter": "python",
   "pygments_lexer": "ipython3",
   "version": "3.9.12"
  },
  "orig_nbformat": 4,
  "vscode": {
   "interpreter": {
    "hash": "c4f92193806e2908606a5f23edd55a5282f2f433b73b1c504507f9256ed9f0b4"
   }
  }
 },
 "nbformat": 4,
 "nbformat_minor": 2
}
